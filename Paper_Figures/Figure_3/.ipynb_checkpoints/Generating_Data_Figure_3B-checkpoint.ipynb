{
 "cells": [
  {
   "cell_type": "code",
   "execution_count": null,
   "id": "a29dfaed",
   "metadata": {},
   "outputs": [],
   "source": [
    "# %% Import Libraries\n",
    "#This is a test\n",
    "import os\n",
    "import pickle\n",
    "import scipy.io\n",
    "import numpy as np\n",
    "import pandas as pd\n",
    "import torch as tc\n",
    "import matplotlib.pyplot as plt\n",
    "\n",
    "from sklearn.discriminant_analysis import LinearDiscriminantAnalysis\n",
    "from sklearn.model_selection import train_test_split\n",
    "\n",
    "import matplotlib.patches as mpatches\n",
    "from tqdm import tqdm\n",
    "from bptt.models import Model\n",
    "import model_anafunctions as func\n",
    "\n",
    "plt.rcParams['font.size'] = 20"
   ]
  },
  {
   "cell_type": "code",
   "execution_count": null,
   "id": "0a9ec434",
   "metadata": {},
   "outputs": [],
   "source": [
    "#%% FUNCTIONS\n",
    "def Hyper_mod(mpath,data_path):\n",
    "    file=open(os.path.join(mpath,'hypers.pkl').replace(\"\\\\\",\"/\"),'rb')\n",
    "    hyper=pickle.load(file)\n",
    "    file.close()\n",
    "    hyper['data_path']=os.path.join(data_path,'Training_data.npy').replace('\\\\','/')\n",
    "    hyper['inputs_path']=os.path.join(data_path,'Training_inputs.npy').replace('\\\\','/')\n",
    "    hyper['device_id'] = 0\n",
    "    full_name = open(os.path.join(mpath,'hypers.pkl').replace(\"\\\\\",\"/\"),\"wb\")                      # Name for training data\n",
    "    pickle.dump(hyper,full_name)            # Save train data\n",
    "    #close save instance \n",
    "    full_name.close()"
   ]
  },
  {
   "cell_type": "code",
   "execution_count": null,
   "id": "af5146b5",
   "metadata": {},
   "outputs": [],
   "source": [
    "mod_sessions"
   ]
  },
  {
   "cell_type": "code",
   "execution_count": null,
   "id": "d42d0d7e",
   "metadata": {},
   "outputs": [],
   "source": [
    "rec_sessions"
   ]
  },
  {
   "cell_type": "code",
   "execution_count": null,
   "id": "be13c4e9",
   "metadata": {},
   "outputs": [],
   "source": [
    "def Generation_Matrixes(data_path,mpath,num_epoch,event):\n",
    "    # Loading Train and Test data    \n",
    "    train_n,train_i = func.load_data(data_path,'Training')\n",
    "    test_n,test_i = func.load_data(data_path,'Test')\n",
    "\n",
    "    # Loading Model\n",
    "    num_epochs = num_epoch\n",
    "    m = Model()\n",
    "    m.init_from_model_path(mpath, epoch=num_epochs)\n",
    "    m.eval()\n",
    "\n",
    "    # Generation Training Data\n",
    "    ModelS=[]\n",
    "    for w_index in tqdm(range(len(train_n))):\n",
    "        data_trial=tc.from_numpy(train_n[w_index]).float()          # tensor of neuronal data for initial trial data\n",
    "        input_trial = tc.from_numpy(train_i[w_index]).float()\n",
    "        length_sim = input_trial.shape[0]\n",
    "        X, _ = m.generate_free_trajectory(data_trial,input_trial,length_sim,w_index)\n",
    "        ModelS.append(X[:,:])\n",
    "\n",
    "    # Concatenating signals\n",
    "    Nseries,_=func.concatenate_list(train_n,0)          # recorded activity\n",
    "    Iseries,_=func.concatenate_list(train_i,0)          # external input\n",
    "    Mseries,_=func.concatenate_list(ModelS,0)           # simulated activity\n",
    "    \n",
    "    if event == 1:\n",
    "        # Temporal sectors: Period of time selected to compute the mean firing rate\n",
    "        Time_ini = np.where(np.diff(Iseries[:,0])==1)[0]-49                        # Initial point:beginning wheel stop\n",
    "        Time_end = np.where(np.diff(Iseries[:,0])==-1)[0]                          # Final point: ending execution time. Just before reward\n",
    "    elif event == 2:\n",
    "        # Temporal sectors: Period of time selected to compute the mean firing rate\n",
    "        Time_ini = np.where(np.diff(Iseries[:,0])==-1)[0]                       # Initial point: beginning reward\n",
    "        RT_end = np.where(np.diff(Iseries[:,0])==1)[0]-49\n",
    "        Time_end = np.append(RT_end[1:],Iseries.shape[0])                       # Final point: ending Inter-Trial Interval (beggining following trial)\n",
    "    elif event == 3:\n",
    "        # Temporal sectors: Period of time selected to compute the mean firing rate\n",
    "        Time_ini = np.where(np.diff(Iseries[:,0])==1)[0]-49                 # Initial point: Beginning trial\n",
    "        Time_end = np.append(TrialTime_ini[1:],Iseries.shape[0])                   # Final point: Ending trial\n",
    "\n",
    "    \n",
    "    # Data Set Mean Activity Zscore Neurons\n",
    "    num_trials = len(Time_end)\n",
    "    num_neurons = Nseries.shape[1]\n",
    "    X_data = np.zeros((num_trials,num_neurons))\n",
    "    X_model = np.zeros((num_trials,num_neurons))\n",
    "    for it in range(num_trials):\n",
    "        X_data[it,:]=np.mean(Nseries[Time_ini[it]:Time_end[it],:],0)\n",
    "        X_model[it,:]=np.mean(Mseries[Time_ini[it]:Time_end[it],:],0)\n",
    "    \n",
    "    return X_data,X_model"
   ]
  },
  {
   "cell_type": "code",
   "execution_count": null,
   "id": "a5df9590",
   "metadata": {},
   "outputs": [],
   "source": [
    "num_sessions = len(mod_sessions)\n",
    "last_epoch = 150000\n",
    "Choice_rec = [] ; Choice_gen =[]\n",
    "Reward_rec = [] ; Reward_gen =[]\n",
    "Block_rec = [] ; Block_gen =[]\n",
    "\n",
    "\n",
    "for isess in range(num_sessions):\n",
    "    Neural_path = os.path.join(path_models,mod_sessions[isess],extra_activity)\n",
    "    Model_path = os.path.join(path_models,mod_sessions[isess],extra_models).replace('\\\\','/')\n",
    "    Behavioural_path = os.path.join(path_behaviours,rec_sessions[isess]).replace('\\\\','/')\n",
    "    Hyper_mod(Model_path,Neural_path)\n",
    "    \n",
    "    "
   ]
  },
  {
   "cell_type": "code",
   "execution_count": null,
   "id": "bfbb926f",
   "metadata": {},
   "outputs": [],
   "source": []
  }
 ],
 "metadata": {
  "kernelspec": {
   "display_name": "Python 3 (ipykernel)",
   "language": "python",
   "name": "python3"
  },
  "language_info": {
   "codemirror_mode": {
    "name": "ipython",
    "version": 3
   },
   "file_extension": ".py",
   "mimetype": "text/x-python",
   "name": "python",
   "nbconvert_exporter": "python",
   "pygments_lexer": "ipython3",
   "version": "3.9.12"
  }
 },
 "nbformat": 4,
 "nbformat_minor": 5
}
