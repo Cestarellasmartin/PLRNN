{
 "cells": [
  {
   "cell_type": "code",
   "execution_count": 1,
   "id": "662b040c",
   "metadata": {},
   "outputs": [
    {
     "name": "stderr",
     "output_type": "stream",
     "text": [
      "C:\\Users\\cestarellas\\anaconda3\\envs\\PLAna\\lib\\site-packages\\scipy\\__init__.py:146: UserWarning: A NumPy version >=1.16.5 and <1.23.0 is required for this version of SciPy (detected version 1.26.4\n",
      "  warnings.warn(f\"A NumPy version >={np_minversion} and <{np_maxversion}\"\n"
     ]
    }
   ],
   "source": [
    "# %% Import Libraries\n",
    "#This is a test\n",
    "import os\n",
    "import pickle\n",
    "import scipy.io\n",
    "import numpy as np\n",
    "import pandas as pd\n",
    "import torch as tc\n",
    "import matplotlib.pyplot as plt\n",
    "\n",
    "from sklearn.discriminant_analysis import LinearDiscriminantAnalysis\n",
    "from sklearn.model_selection import train_test_split\n",
    "\n",
    "import matplotlib.patches as mpatches\n",
    "from tqdm import tqdm\n",
    "from bptt.models import Model\n",
    "import model_anafunctions as func\n",
    "\n",
    "plt.rcParams['font.size'] = 20"
   ]
  },
  {
   "cell_type": "code",
   "execution_count": 2,
   "id": "907d65fd",
   "metadata": {},
   "outputs": [],
   "source": [
    "#%% FUNCTIONS\n",
    "def Hyper_mod(mpath,data_path):\n",
    "    file=open(os.path.join(mpath,'hypers.pkl').replace(\"\\\\\",\"/\"),'rb')\n",
    "    hyper=pickle.load(file)\n",
    "    file.close()\n",
    "    hyper['data_path']=os.path.join(data_path,'Training_data.npy').replace('\\\\','/')\n",
    "    hyper['inputs_path']=os.path.join(data_path,'Training_inputs.npy').replace('\\\\','/')\n",
    "    hyper['device_id'] = 0\n",
    "    full_name = open(os.path.join(mpath,'hypers.pkl').replace(\"\\\\\",\"/\"),\"wb\")                      # Name for training data\n",
    "    pickle.dump(hyper,full_name)            # Save train data\n",
    "    #close save instance \n",
    "    full_name.close()"
   ]
  },
  {
   "cell_type": "code",
   "execution_count": 3,
   "id": "703a3e6f",
   "metadata": {},
   "outputs": [],
   "source": [
    "#%% Data Organization\n",
    "# General Directories\n",
    "path_models = 'D:\\\\_work_cestarellas\\\\Analysis\\\\Pack_Daniel_project\\\\Preprocess_model\\\\' # For models and Training and Test data\n",
    "path_behaviours = 'D:\\\\_work_cestarellas\\\\Analysis\\\\PLRNN\\\\Session_Selected\\\\OFC'        # For behavioural sessions\n",
    "\n",
    "#Model\n",
    "mod_sessions = os.listdir(path_models)\n",
    "extra_models = 'results\\\\DataTrainingH768_lm1_1e-05_lm2_128_lm3_00_seql_400\\\\001'\n",
    "#Neuronal Activity\n",
    "extra_activity = 'neuralactivity\\\\datasets\\\\'\n",
    "#Behaviour\n",
    "rec_sessions = os.listdir(path_behaviours)\n",
    "\n",
    "#################### WARNING\n",
    "# Be careful!!! Check if the order of mod_sessions and rec_sessions is the same\n",
    "#################### WARNING"
   ]
  },
  {
   "cell_type": "code",
   "execution_count": 4,
   "id": "f949ae38",
   "metadata": {},
   "outputs": [
    {
     "data": {
      "text/plain": [
       "['bptt_CE17', 'bptt_DM01_5', 'bptt_DM01_7', 'bptt_JG15_24', 'bptt_JG15_25']"
      ]
     },
     "execution_count": 4,
     "metadata": {},
     "output_type": "execute_result"
    }
   ],
   "source": [
    "mod_sessions"
   ]
  },
  {
   "cell_type": "code",
   "execution_count": 5,
   "id": "32b9a4a5",
   "metadata": {},
   "outputs": [
    {
     "data": {
      "text/plain": [
       "['CE17_L6',\n",
       " 'DM01_5_220522',\n",
       " 'DM01_7_220524',\n",
       " 'JG15_190724_clustered',\n",
       " 'JG15_190725_clustered']"
      ]
     },
     "execution_count": 5,
     "metadata": {},
     "output_type": "execute_result"
    }
   ],
   "source": [
    "rec_sessions"
   ]
  },
  {
   "cell_type": "code",
   "execution_count": 6,
   "id": "198c35b4",
   "metadata": {},
   "outputs": [],
   "source": [
    "# FUNCTION\n",
    "\n",
    "def Preproces_data(data_path,mpath,num_epoch):\n",
    "    # Loading Train and Test data    \n",
    "    train_n,train_i = func.load_data(data_path,'Training')\n",
    "    test_n,test_i = func.load_data(data_path,'Test')\n",
    "\n",
    "    # Loading Model\n",
    "    num_epochs = num_epoch\n",
    "    m = Model()\n",
    "    m.init_from_model_path(mpath, epoch=num_epochs)\n",
    "    m.eval()\n",
    "\n",
    "    # Generation Training Data\n",
    "    ModelS=[]\n",
    "    for w_index in tqdm(range(len(train_n))):\n",
    "        data_trial=tc.from_numpy(train_n[w_index]).float()          # tensor of neuronal data for initial trial data\n",
    "        input_trial = tc.from_numpy(train_i[w_index]).float()\n",
    "        length_sim = input_trial.shape[0]\n",
    "        X, _ = m.generate_free_trajectory(data_trial,input_trial,length_sim,w_index)\n",
    "        ModelS.append(X[:,:])\n",
    "\n",
    "    # Concatenating signals\n",
    "    Nseries,_=func.concatenate_list(train_n,0)          # recorded activity\n",
    "    Iseries,_=func.concatenate_list(train_i,0)          # external input\n",
    "    Mseries,_=func.concatenate_list(ModelS,0)           # simulated activity\n",
    "    \n",
    "    # Identification of training trials in full behaviour (Tr_behaviour)\n",
    "    # Open the file in binary mode\n",
    "    Meta_file_path = os.path.join(data_path,'Metadata.pkl').replace('\\\\','/')\n",
    "    with open(Meta_file_path, \"rb\") as f:\n",
    "        # Load the pickled data\n",
    "        Meta_info = pickle.load(f)\n",
    "\n",
    "    Test_trials = Meta_info[\"TestTrials\"]; Training_trials = Meta_info[\"TrainingTrials\"]    \n",
    "\n",
    "    itrain = 0\n",
    "    itest = 0\n",
    "    Trials_inmodel = []\n",
    "    for i in range(len(Meta_info[\"TestTrials\"])+len(Meta_info[\"TrainingTrials\"])):\n",
    "        if i in Meta_info[\"TrainingTrials\"]:\n",
    "            Trials_inmodel.append(np.sum(np.diff(train_i[itrain][:,0])==1))\n",
    "            itrain += 1\n",
    "        elif i in Meta_info[\"TestTrials\"]:\n",
    "            Trials_inmodel.append(np.sum(np.diff(test_i[itest][:,0])==1))\n",
    "            itest +=1\n",
    "\n",
    "    # Cumulative sum of the behavioural trials in concatenated trials        \n",
    "    CUM_trials = [np.sum(Trials_inmodel[:i]) for i in range(len(Trials_inmodel)+1)]\n",
    "\n",
    "    Ini_beh = [0]+[CUM_trials[i+1] for i in Test_trials]\n",
    "    End_beh = [CUM_trials[i] for i in Test_trials]+[CUM_trials[-1]]\n",
    "\n",
    "    Tr_behaviour = []\n",
    "    for k in range(len(Ini_beh)):\n",
    "        Tr_behaviour= Tr_behaviour+[i for i in range(Ini_beh[k],End_beh[k])]\n",
    "\n",
    "    return Nseries,Mseries,Iseries,Tr_behaviour"
   ]
  },
  {
   "cell_type": "code",
   "execution_count": 7,
   "id": "0b1fee04",
   "metadata": {},
   "outputs": [],
   "source": [
    "# FUNCTION\n",
    "def Behaviour_variables(behaviour_path,Tr_behaviour):\n",
    "    \n",
    "    # Selection of the file\n",
    "    os.chdir(behaviour_path)\n",
    "    list_files = os.listdir(behaviour_path)\n",
    "    for i in list_files:\n",
    "        if i.find('Behaviour')>0:\n",
    "            Behaviour_name = i\n",
    "\n",
    "    # Load data\n",
    "    # Open the Behaviour file\n",
    "    Bdata = scipy.io.loadmat(Behaviour_name)\n",
    "    BehData = Bdata[list(Bdata.keys())[-1]]\n",
    "\n",
    "    # Next Decision (Gamble [1] - Safe [0])\n",
    "    ND_se = (BehData[:,12]==1)*1+(BehData[:,12]==0)*0\n",
    "    ND = ND_se[Tr_behaviour]\n",
    "    \n",
    "    # Reward (Gamble [2], Safe [1], Nothing [0])\n",
    "    RW_se = (BehData[:,12]==1)*(BehData[:,13])*2+(BehData[:,13])*(BehData[:,12]==0)*1\n",
    "    RW = RW_se[Tr_behaviour]\n",
    "\n",
    "    # Blocks (High [2], Medium [1], Low [0]): The value depends on the organization of the variable \"blocks\"\n",
    "    blocks=np.unique(BehData[:,5])\n",
    "    if len(blocks)==3:\n",
    "        B_se=(BehData[:,5]==blocks[0])*0+(BehData[:,5]==blocks[1])*1+(BehData[:,5]==blocks[2])*2\n",
    "    elif len(blocks)==2:\n",
    "        B_se=(BehData[:,5]==blocks[0])*0+(BehData[:,5]==blocks[1])*1\n",
    "    elif len(blocks)<2:\n",
    "        print(\"There is no different blocks to classify the data\")\n",
    "    else:\n",
    "        print(\"This is not the original task\")\n",
    "    BI = B_se[Tr_behaviour]\n",
    "    \n",
    "    return ND,RW,BI"
   ]
  },
  {
   "cell_type": "code",
   "execution_count": 8,
   "id": "850dfebe",
   "metadata": {},
   "outputs": [],
   "source": [
    "# FUNCTION\n",
    "def Classification_Choice(Nseries,Mseries,Iseries,ND):\n",
    "\n",
    "    # Firing Rate Neurons\n",
    "\n",
    "    # Temporal sectors: Period of time selected to compute the mean firing rate\n",
    "    Time_ini = np.where(np.diff(Iseries[:,0])==1)[0]-49                        # Initial point:beginning wheel stop\n",
    "    Time_end = np.where(np.diff(Iseries[:,0])==-1)[0]                          # Final point: ending execution time. Just before reward\n",
    "    \n",
    "    # Data Set Mean Activity Zscore Neurons\n",
    "    num_trials = len(Time_end)\n",
    "    num_neurons = Nseries.shape[1]\n",
    "    X_data = np.zeros((num_trials,num_neurons))\n",
    "    X_model = np.zeros((num_trials,num_neurons))\n",
    "    for it in range(num_trials):\n",
    "        X_data[it,:]=np.mean(Nseries[Time_ini[it]:Time_end[it],:],0)\n",
    "        X_model[it,:]=np.mean(Mseries[Time_ini[it]:Time_end[it],:],0)\n",
    "\n",
    "\n",
    "    #%% Next Choice\n",
    "    score_data=[]\n",
    "    score_model=[]\n",
    "    score_modelSh=[]\n",
    "    score_dataSh=[]\n",
    "\n",
    "    clf = LinearDiscriminantAnalysis()\n",
    "    for i in range(1000):\n",
    "        list_trials=np.linspace(0,X_data.shape[0]-1,X_data.shape[0]).astype(int)\n",
    "        np.random.shuffle(list_trials)\n",
    "        # Classifying data\n",
    "        X=X_data[list_trials,:]\n",
    "        y=ND[list_trials]\n",
    "        random_state=0\n",
    "        X_train, X_test, y_train, y_test = train_test_split(\n",
    "            X, y, test_size=0.2, stratify=y, random_state=0\n",
    "            )\n",
    "        clf.fit(X_train,y_train)\n",
    "        score_data.append(clf.score(X_test,y_test))\n",
    "\n",
    "        # Classifying model\n",
    "        Xm=X_model[list_trials,:]\n",
    "        random_state=0\n",
    "        X_trainM, X_testM, y_trainM, y_testM = train_test_split(\n",
    "            Xm, y, test_size=0.2, stratify=y, random_state=0\n",
    "            )\n",
    "        random_state=0\n",
    "        clf.fit(X_trainM,y_trainM)\n",
    "        score_model.append(clf.score(X_testM,y_testM))\n",
    "\n",
    "        # Classifying data Shuffle\n",
    "        list_trials=np.linspace(0,X_data.shape[0]-1,X_data.shape[0]).astype(int)\n",
    "        y=ND[list_trials]\n",
    "        random_state=0\n",
    "        X_trainS, X_testS, y_trainS, y_testS = train_test_split(\n",
    "            X, y, test_size=0.2, stratify=y, random_state=0\n",
    "            )\n",
    "\n",
    "        clf.fit(X_trainS,y_trainS)\n",
    "        score_dataSh.append(clf.score(X_testS,y_testS))\n",
    "        # Classifying model Shuffle\n",
    "        X_trainMS, X_testMS, y_trainMS, y_testMS = train_test_split(\n",
    "            Xm, y, test_size=0.2, stratify=y, random_state=0\n",
    "            )\n",
    "        clf.fit(X_trainMS,y_trainMS)\n",
    "        score_modelSh.append(clf.score(X_testMS,y_testMS))\n",
    "    return score_data, score_model"
   ]
  },
  {
   "cell_type": "code",
   "execution_count": 9,
   "id": "1829f615",
   "metadata": {},
   "outputs": [],
   "source": [
    "# FUNCTION\n",
    "\n",
    "def Classification_Reward(Nseries,Mseries,Iseries,RW):\n",
    "    # Classification of the Type of Reward in the trials with information during reward and ITI period\n",
    "    # The previous information is the mean firing rate of each neuron from Reward until the initial point of the following trial\n",
    "\n",
    "    # Firing Rate Neurons\n",
    "    # Temporal sectors: Period of time selected to compute the mean firing rate\n",
    "    RewTime_ini = np.where(np.diff(Iseries[:,0])==-1)[0]                       # Initial point: beginning reward\n",
    "    RT_end = np.where(np.diff(Iseries[:,0])==1)[0]-49\n",
    "    RewTime_end = np.append(RT_end[1:],Iseries.shape[0])                       # Final point: ending Inter-Trial Interval (beggining following trial)\n",
    "\n",
    "    # Data Set Mean Activity Zscore Neurons\n",
    "    num_trials = len(RewTime_end)\n",
    "    num_neurons = Nseries.shape[1]\n",
    "    X_data = np.zeros((num_trials,num_neurons))\n",
    "    X_model = np.zeros((num_trials,num_neurons))\n",
    "    for it in range(num_trials):\n",
    "        X_data[it,:]=np.mean(Nseries[RewTime_ini[it]:RewTime_end[it],:],0)\n",
    "        X_model[it,:]=np.mean(Mseries[RewTime_ini[it]:RewTime_end[it],:],0)\n",
    "        \n",
    "\n",
    "    #%% Reward Identification\n",
    "    score_data=[]\n",
    "    score_model=[]\n",
    "    score_modelSh=[]\n",
    "    score_dataSh=[]\n",
    "\n",
    "    clf = LinearDiscriminantAnalysis()\n",
    "    for i in range(1000):\n",
    "        list_trials=np.linspace(0,X_data.shape[0]-1,X_data.shape[0]).astype(int)\n",
    "        np.random.shuffle(list_trials)\n",
    "        # Classifying data\n",
    "        X=X_data[list_trials,:]\n",
    "        y=RW[list_trials]\n",
    "        random_state=0\n",
    "        X_train, X_test, y_train, y_test = train_test_split(\n",
    "            X, y, test_size=0.2, stratify=y, random_state=0\n",
    "            )\n",
    "        clf.fit(X_train,y_train)\n",
    "        score_data.append(clf.score(X_test,y_test))\n",
    "\n",
    "        # Classifying model\n",
    "        Xm=X_model[list_trials,:]\n",
    "        random_state=0\n",
    "        X_trainM, X_testM, y_trainM, y_testM = train_test_split(\n",
    "            Xm, y, test_size=0.2, stratify=y, random_state=0\n",
    "            )\n",
    "        random_state=0\n",
    "        clf.fit(X_trainM,y_trainM)\n",
    "        score_model.append(clf.score(X_testM,y_testM))\n",
    "\n",
    "        # Classifying data Shuffle\n",
    "        list_trials=np.linspace(0,X_data.shape[0]-1,X_data.shape[0]).astype(int)\n",
    "        y=RW[list_trials]\n",
    "        random_state=0\n",
    "        X_trainS, X_testS, y_trainS, y_testS = train_test_split(\n",
    "            X, y, test_size=0.2, stratify=y, random_state=0\n",
    "            )\n",
    "\n",
    "        clf.fit(X_trainS,y_trainS)\n",
    "        score_dataSh.append(clf.score(X_testS,y_testS))\n",
    "        # Classifying model Shuffle\n",
    "        X_trainMS, X_testMS, y_trainMS, y_testMS = train_test_split(\n",
    "            Xm, y, test_size=0.2, stratify=y, random_state=0\n",
    "            )\n",
    "        clf.fit(X_trainMS,y_trainMS)\n",
    "        score_modelSh.append(clf.score(X_testMS,y_testMS))\n",
    "    return score_data, score_model"
   ]
  },
  {
   "cell_type": "code",
   "execution_count": 10,
   "id": "f6a368dc",
   "metadata": {},
   "outputs": [],
   "source": [
    "# FUNCTION\n",
    "def Classification_Block(Nseries,Mseries,Iseries,BI):\n",
    "    # Classification of the Type of Reward in the trials with information during reward and ITI period\n",
    "    # The previous information is the mean firing rate of each neuron from Reward until the initial point of the following trial\n",
    "\n",
    "    # Firing Rate Neurons\n",
    "\n",
    "    # Temporal sectors: Period of time selected to compute the mean firing rate\n",
    "    TrialTime_ini = np.where(np.diff(Iseries[:,0])==1)[0]-49                 # Initial point: Beginning trial\n",
    "    TrialTime_end = np.append(TrialTime_ini[1:],Iseries.shape[0])                   # Final point: Ending trial\n",
    "\n",
    "    # Data Set Mean Activity Zscore Neurons\n",
    "    num_trials = len(TrialTime_end)\n",
    "    num_neurons = Nseries.shape[1]\n",
    "    X_data = np.zeros((num_trials,num_neurons))\n",
    "    X_model = np.zeros((num_trials,num_neurons))\n",
    "    for it in range(num_trials):\n",
    "        X_data[it,:]=np.mean(Nseries[TrialTime_ini[it]:TrialTime_end[it],:],0)\n",
    "        X_model[it,:]=np.mean(Mseries[TrialTime_ini[it]:TrialTime_end[it],:],0)\n",
    "\n",
    "\n",
    "    #%% Reward Identification\n",
    "    score_data=[]\n",
    "    score_model=[]\n",
    "    score_modelSh=[]\n",
    "    score_dataSh=[]\n",
    "\n",
    "    clf = LinearDiscriminantAnalysis()\n",
    "    for i in range(1000):\n",
    "        list_trials=np.linspace(0,X_data.shape[0]-1,X_data.shape[0]).astype(int)\n",
    "        np.random.shuffle(list_trials)\n",
    "        # Classifying data\n",
    "        X=X_data[list_trials,:]\n",
    "        y=BI[list_trials]\n",
    "        random_state=0\n",
    "        X_train, X_test, y_train, y_test = train_test_split(\n",
    "            X, y, test_size=0.2, stratify=y, random_state=0\n",
    "            )\n",
    "        clf.fit(X_train,y_train)\n",
    "        score_data.append(clf.score(X_test,y_test))\n",
    "\n",
    "        # Classifying model\n",
    "        Xm=X_model[list_trials,:]\n",
    "        random_state=0\n",
    "        X_trainM, X_testM, y_trainM, y_testM = train_test_split(\n",
    "            Xm, y, test_size=0.2, stratify=y, random_state=0\n",
    "            )\n",
    "        random_state=0\n",
    "        clf.fit(X_trainM,y_trainM)\n",
    "        score_model.append(clf.score(X_testM,y_testM))\n",
    "\n",
    "        # Classifying data Shuffle\n",
    "        list_trials=np.linspace(0,X_data.shape[0]-1,X_data.shape[0]).astype(int)\n",
    "        y=BI[list_trials]\n",
    "        random_state=0\n",
    "        X_trainS, X_testS, y_trainS, y_testS = train_test_split(\n",
    "            X, y, test_size=0.2, stratify=y, random_state=0\n",
    "            )\n",
    "\n",
    "        clf.fit(X_trainS,y_trainS)\n",
    "        score_dataSh.append(clf.score(X_testS,y_testS))\n",
    "        # Classifying model Shuffle\n",
    "        X_trainMS, X_testMS, y_trainMS, y_testMS = train_test_split(\n",
    "            Xm, y, test_size=0.2, stratify=y, random_state=0\n",
    "            )\n",
    "        clf.fit(X_trainMS,y_trainMS)\n",
    "        score_modelSh.append(clf.score(X_testMS,y_testMS))\n",
    "    return score_data, score_model\n"
   ]
  },
  {
   "cell_type": "code",
   "execution_count": 11,
   "id": "5793cb77",
   "metadata": {},
   "outputs": [
    {
     "name": "stdout",
     "output_type": "stream",
     "text": [
      "Chosen model is clipped shPLRNN, the bases Parameter has no effect here!\n"
     ]
    },
    {
     "name": "stderr",
     "output_type": "stream",
     "text": [
      "100%|██████████████████████████████████████████████████████████████████████████████████| 55/55 [00:05<00:00,  9.35it/s]\n"
     ]
    },
    {
     "name": "stdout",
     "output_type": "stream",
     "text": [
      "Chosen model is clipped shPLRNN, the bases Parameter has no effect here!\n"
     ]
    },
    {
     "name": "stderr",
     "output_type": "stream",
     "text": [
      "100%|██████████████████████████████████████████████████████████████████████████████████| 58/58 [00:05<00:00, 10.06it/s]\n"
     ]
    },
    {
     "name": "stdout",
     "output_type": "stream",
     "text": [
      "Chosen model is clipped shPLRNN, the bases Parameter has no effect here!\n"
     ]
    },
    {
     "name": "stderr",
     "output_type": "stream",
     "text": [
      "100%|██████████████████████████████████████████████████████████████████████████████████| 88/88 [00:09<00:00,  9.36it/s]\n"
     ]
    },
    {
     "name": "stdout",
     "output_type": "stream",
     "text": [
      "Chosen model is clipped shPLRNN, the bases Parameter has no effect here!\n"
     ]
    },
    {
     "name": "stderr",
     "output_type": "stream",
     "text": [
      "100%|██████████████████████████████████████████████████████████████████████████████████| 48/48 [00:05<00:00,  8.78it/s]\n"
     ]
    },
    {
     "name": "stdout",
     "output_type": "stream",
     "text": [
      "Chosen model is clipped shPLRNN, the bases Parameter has no effect here!\n"
     ]
    },
    {
     "name": "stderr",
     "output_type": "stream",
     "text": [
      "100%|██████████████████████████████████████████████████████████████████████████████████| 35/35 [00:03<00:00,  9.51it/s]\n"
     ]
    }
   ],
   "source": [
    "num_sessions = len(mod_sessions)\n",
    "last_epoch = 150000\n",
    "Choice_rec = [] ; Choice_gen =[]\n",
    "Reward_rec = [] ; Reward_gen =[]\n",
    "Block_rec = [] ; Block_gen =[]\n",
    "\n",
    "\n",
    "for isess in range(num_sessions):\n",
    "    Neural_path = os.path.join(path_models,mod_sessions[isess],extra_activity)\n",
    "    Model_path = os.path.join(path_models,mod_sessions[isess],extra_models).replace('\\\\','/')\n",
    "    Behavioural_path = os.path.join(path_behaviours,rec_sessions[isess]).replace('\\\\','/')\n",
    "    Hyper_mod(Model_path,Neural_path)\n",
    "    Rec_activity,Gen_activity,EI_signal,Trials_beh = Preproces_data(Neural_path,Model_path,last_epoch)\n",
    "    Choice_id,Reward_id,Blocks_id = Behaviour_variables(Behavioural_path,Trials_beh)\n",
    "    # Classification Choice\n",
    "    Ac_rec_choice,Ac_gen_choice = Classification_Choice(Rec_activity,Gen_activity,EI_signal,Choice_id)\n",
    "    Choice_rec=Choice_rec+[(np.array(Ac_rec_choice).mean())]#Ac_rec_choice#\n",
    "    Choice_gen=Choice_gen+[(np.array(Ac_gen_choice).mean())]#Ac_gen_choice#\n",
    "    # Classification Reward\n",
    "    Ac_rec_reward,Ac_gen_reward = Classification_Reward(Rec_activity,Gen_activity,EI_signal,Reward_id)\n",
    "    Reward_rec=Reward_rec+[(np.array(Ac_rec_reward).mean())]#Ac_rec_reward#\n",
    "    Reward_gen=Reward_gen+[(np.array(Ac_gen_reward).mean())]#Ac_gen_reward#\n",
    "    # Classification Block\n",
    "    Ac_rec_block,Ac_gen_block = Classification_Block(Rec_activity,Gen_activity,EI_signal,Blocks_id)\n",
    "    Block_rec=Block_rec+[(np.array(Ac_rec_block).mean())]#Ac_rec_block#\n",
    "    Block_gen=Block_gen+[(np.array(Ac_gen_block).mean())]#Ac_gen_block#\n",
    "        "
   ]
  },
  {
   "cell_type": "code",
   "execution_count": 16,
   "id": "a1ea1bb8",
   "metadata": {
    "scrolled": false
   },
   "outputs": [
    {
     "data": {
      "image/png": "[encoded data removed]",
      "text/plain": [
       "<Figure size 1440x360 with 3 Axes>"
      ]
     },
     "metadata": {
      "needs_background": "light"
     },
     "output_type": "display_data"
    }
   ],
   "source": [
    "fig, axs = plt.subplots(1, 3, figsize=(20, 5), sharey=True)\n",
    "Models = ['Recorded','Generated']\n",
    "axs[0].boxplot([Choice_rec,Choice_gen],labels=Models)\n",
    "axs[0].set_ylabel('Accuracy')\n",
    "axs[0].set_title('Choice (Gamble - Safe)')\n",
    "axs[0].set_ylim([0.5,1])\n",
    "axs[1].boxplot([Reward_rec,Reward_gen],labels=Models)\n",
    "axs[1].set_title('Reward (Gamble - Safe - None)')\n",
    "axs[2].boxplot([Block_rec,Block_gen],labels=Models)\n",
    "axs[2].set_title('Block (High - Med - Low)')\n",
    "plt.tight_layout()\n",
    "# Save Figure\n",
    "fig.savefig(\"D:/_work_cestarellas/Analysis/Pack_Daniel_project/Figures/3_Figure/Accuracy_predictions.png\")\n",
    "plt.show()"
   ]
  },
  {
   "cell_type": "code",
   "execution_count": 14,
   "id": "10b6e9b8",
   "metadata": {},
   "outputs": [
    {
     "name": "stdout",
     "output_type": "stream",
     "text": [
      "T-statistic: 0.838147618968028\n",
      "P-value: 0.42627871491876834\n",
      "T-statistic: -0.12503207364603305\n",
      "P-value: 0.9035829728031126\n",
      "T-statistic: 0.0877547413015114\n",
      "P-value: 0.9322284972402427\n"
     ]
    }
   ],
   "source": [
    "from scipy import stats\n",
    "# Perform the t-test\n",
    "t_statistic, p_value = stats.ttest_ind(Choice_rec, Choice_gen)\n",
    "# Print the results\n",
    "print(\"T-statistic:\", t_statistic)\n",
    "print(\"P-value:\", p_value)\n",
    "# Perform the t-test\n",
    "t_statistic, p_value = stats.ttest_ind(Reward_rec, Reward_gen)\n",
    "# Print the results\n",
    "print(\"T-statistic:\", t_statistic)\n",
    "print(\"P-value:\", p_value)\n",
    "# Perform the t-test\n",
    "t_statistic, p_value = stats.ttest_ind(Block_rec, Block_gen)\n",
    "# Print the results\n",
    "print(\"T-statistic:\", t_statistic)\n",
    "print(\"P-value:\", p_value)"
   ]
  },
  {
   "cell_type": "code",
   "execution_count": null,
   "id": "eafa5cc3",
   "metadata": {},
   "outputs": [],
   "source": []
  }
 ],
 "metadata": {
  "kernelspec": {
   "display_name": "Python 3 (ipykernel)",
   "language": "python",
   "name": "python3"
  },
  "language_info": {
   "codemirror_mode": {
    "name": "ipython",
    "version": 3
   },
   "file_extension": ".py",
   "mimetype": "text/x-python",
   "name": "python",
   "nbconvert_exporter": "python",
   "pygments_lexer": "ipython3",
   "version": "3.9.12"
  }
 },
 "nbformat": 4,
 "nbformat_minor": 5
}
