{
 "cells": [
  {
   "cell_type": "code",
   "execution_count": 1,
   "id": "7773d870",
   "metadata": {},
   "outputs": [
    {
     "name": "stderr",
     "output_type": "stream",
     "text": [
      "c:\\Users\\cestarellas\\anaconda3\\envs\\PLAna\\lib\\site-packages\\scipy\\__init__.py:146: UserWarning: A NumPy version >=1.16.5 and <1.23.0 is required for this version of SciPy (detected version 1.26.4\n",
      "  warnings.warn(f\"A NumPy version >={np_minversion} and <{np_maxversion}\"\n"
     ]
    }
   ],
   "source": [
    "# %% Import Libraries\n",
    "#This is a test\n",
    "import os\n",
    "import pickle\n",
    "import scipy.io\n",
    "import numpy as np\n",
    "import pandas as pd\n",
    "import torch as tc\n",
    "import matplotlib.pyplot as plt\n",
    "\n",
    "from sklearn.discriminant_analysis import LinearDiscriminantAnalysis\n",
    "from sklearn.model_selection import train_test_split\n",
    "\n",
    "import matplotlib.patches as mpatches\n",
    "from tqdm import tqdm\n",
    "from bptt.models import Model\n",
    "import model_anafunctions as func\n",
    "\n",
    "plt.rcParams['font.size'] = 20"
   ]
  },
  {
   "cell_type": "code",
   "execution_count": 2,
   "id": "8021a8f9",
   "metadata": {},
   "outputs": [],
   "source": [
    "#%% FUNCTIONS\n",
    "def Hyper_mod(mpath,data_path):\n",
    "    file=open(os.path.join(mpath,'hypers.pkl').replace(\"\\\\\",\"/\"),'rb')\n",
    "    hyper=pickle.load(file)\n",
    "    file.close()\n",
    "    hyper['data_path']=os.path.join(data_path,'Training_data.npy').replace('\\\\','/')\n",
    "    hyper['inputs_path']=os.path.join(data_path,'Training_inputs.npy').replace('\\\\','/')\n",
    "    hyper['device_id'] = 0\n",
    "    full_name = open(os.path.join(mpath,'hypers.pkl').replace(\"\\\\\",\"/\"),\"wb\")                      # Name for training data\n",
    "    pickle.dump(hyper,full_name)            # Save train data\n",
    "    #close save instance \n",
    "    full_name.close()"
   ]
  },
  {
   "cell_type": "code",
   "execution_count": 3,
   "id": "081c1bd3",
   "metadata": {},
   "outputs": [],
   "source": [
    "#%% Data Organization\n",
    "# General Directories\n",
    "path_models = 'D:\\\\_work_cestarellas\\\\Analysis\\\\Pack_Daniel_project\\\\Preprocess_model\\\\' # For models and Training and Test data\n",
    "path_behaviours = 'D:\\\\_work_cestarellas\\\\Analysis\\\\PLRNN\\\\Session_Selected\\\\OFC'        # For behavioural sessions\n",
    "\n",
    "#Model\n",
    "mod_sessions = os.listdir(path_models)\n",
    "extra_models = 'results\\\\DataTrainingH768_lm1_1e-05_lm2_128_lm3_00_seql_400\\\\001'\n",
    "#Neuronal Activity\n",
    "extra_activity = 'neuralactivity\\\\datasets\\\\'\n",
    "#Behaviour\n",
    "rec_sessions = os.listdir(path_behaviours)\n",
    "\n",
    "#################### WARNING\n",
    "# Be careful!!! Check if the order of mod_sessions and rec_sessions is the same\n",
    "#################### WARNING"
   ]
  },
  {
   "cell_type": "code",
   "execution_count": 4,
   "id": "6a212bdb",
   "metadata": {},
   "outputs": [
    {
     "data": {
      "text/plain": [
       "['bptt_CE17', 'bptt_DM01_5', 'bptt_DM01_7', 'bptt_JG15_24', 'bptt_JG15_25']"
      ]
     },
     "execution_count": 4,
     "metadata": {},
     "output_type": "execute_result"
    }
   ],
   "source": [
    "mod_sessions"
   ]
  },
  {
   "cell_type": "code",
   "execution_count": 5,
   "id": "dfee4b7d",
   "metadata": {},
   "outputs": [
    {
     "data": {
      "text/plain": [
       "['CE17_L6',\n",
       " 'DM01_5_220522',\n",
       " 'DM01_7_220524',\n",
       " 'JG15_190724_clustered',\n",
       " 'JG15_190725_clustered']"
      ]
     },
     "execution_count": 5,
     "metadata": {},
     "output_type": "execute_result"
    }
   ],
   "source": [
    "rec_sessions"
   ]
  },
  {
   "cell_type": "code",
   "execution_count": 6,
   "id": "18964ba3",
   "metadata": {},
   "outputs": [],
   "source": [
    "def Generation_Matrixes(data_path,mpath,num_epoch,event):\n",
    "    # Loading Train and Test data    \n",
    "    train_n,train_i = func.load_data(data_path,'Training')\n",
    "    test_n,test_i = func.load_data(data_path,'Test')\n",
    "\n",
    "    # Loading Model\n",
    "    num_epochs = num_epoch\n",
    "    m = Model()\n",
    "    m.init_from_model_path(mpath, epoch=num_epochs)\n",
    "    m.eval()\n",
    "\n",
    "    # Generation Training Data\n",
    "    ModelS=[]\n",
    "    for w_index in tqdm(range(len(train_n))):\n",
    "        data_trial=tc.from_numpy(train_n[w_index]).float()          # tensor of neuronal data for initial trial data\n",
    "        input_trial = tc.from_numpy(train_i[w_index]).float()\n",
    "        length_sim = input_trial.shape[0]\n",
    "        X, _ = m.generate_free_trajectory(data_trial,input_trial,length_sim,w_index)\n",
    "        ModelS.append(X[:,:])\n",
    "\n",
    "    # Concatenating signals\n",
    "    Nseries,_=func.concatenate_list(train_n,0)          # recorded activity\n",
    "    Iseries,_=func.concatenate_list(train_i,0)          # external input\n",
    "    Mseries,_=func.concatenate_list(ModelS,0)           # simulated activity\n",
    "    \n",
    "    if event == 1:\n",
    "        # Temporal sectors: Period of time selected to compute the mean firing rate\n",
    "        Time_ini = np.where(np.diff(Iseries[:,0])==1)[0]-49                        # Initial point:beginning wheel stop\n",
    "        Time_end = np.where(np.diff(Iseries[:,0])==-1)[0]                          # Final point: ending execution time. Just before reward\n",
    "    elif event == 2:\n",
    "        # Temporal sectors: Period of time selected to compute the mean firing rate\n",
    "        Time_ini = np.where(np.diff(Iseries[:,0])==-1)[0]                       # Initial point: beginning reward\n",
    "        RT_end = np.where(np.diff(Iseries[:,0])==1)[0]-49\n",
    "        Time_end = np.append(RT_end[1:],Iseries.shape[0])                       # Final point: ending Inter-Trial Interval (beggining following trial)\n",
    "    elif event == 3:\n",
    "        # Temporal sectors: Period of time selected to compute the mean firing rate\n",
    "        Time_ini = np.where(np.diff(Iseries[:,0])==1)[0]-49                 # Initial point: Beginning trial\n",
    "        Time_end = np.append(Time_ini[1:],Iseries.shape[0])                   # Final point: Ending trial\n",
    "\n",
    "    \n",
    "    # Data Set Mean Activity Zscore Neurons\n",
    "    num_trials = len(Time_end)\n",
    "    num_neurons = Nseries.shape[1]\n",
    "    X_data = np.zeros((num_trials,num_neurons))\n",
    "    X_model = np.zeros((num_trials,num_neurons))\n",
    "    for it in range(num_trials):\n",
    "        X_data[it,:]=np.mean(Nseries[Time_ini[it]:Time_end[it],:],0)\n",
    "        X_model[it,:]=np.mean(Mseries[Time_ini[it]:Time_end[it],:],0)\n",
    "    \n",
    "    return X_data,X_model"
   ]
  },
  {
   "cell_type": "code",
   "execution_count": 11,
   "id": "76aad776",
   "metadata": {},
   "outputs": [
    {
     "name": "stdout",
     "output_type": "stream",
     "text": [
      "Chosen model is clipped shPLRNN, the bases Parameter has no effect here!\n"
     ]
    },
    {
     "name": "stderr",
     "output_type": "stream",
     "text": [
      "100%|██████████████████████████████████████████████████████████████████████████████████| 55/55 [00:05<00:00,  9.38it/s]\n"
     ]
    },
    {
     "name": "stdout",
     "output_type": "stream",
     "text": [
      "Chosen model is clipped shPLRNN, the bases Parameter has no effect here!\n"
     ]
    },
    {
     "name": "stderr",
     "output_type": "stream",
     "text": [
      "100%|██████████████████████████████████████████████████████████████████████████████████| 55/55 [00:05<00:00,  9.21it/s]\n"
     ]
    },
    {
     "name": "stdout",
     "output_type": "stream",
     "text": [
      "Chosen model is clipped shPLRNN, the bases Parameter has no effect here!\n"
     ]
    },
    {
     "name": "stderr",
     "output_type": "stream",
     "text": [
      "100%|██████████████████████████████████████████████████████████████████████████████████| 55/55 [00:06<00:00,  8.96it/s]\n"
     ]
    },
    {
     "name": "stdout",
     "output_type": "stream",
     "text": [
      "Chosen model is clipped shPLRNN, the bases Parameter has no effect here!\n"
     ]
    },
    {
     "name": "stderr",
     "output_type": "stream",
     "text": [
      "100%|██████████████████████████████████████████████████████████████████████████████████| 58/58 [00:05<00:00,  9.93it/s]\n"
     ]
    },
    {
     "name": "stdout",
     "output_type": "stream",
     "text": [
      "Chosen model is clipped shPLRNN, the bases Parameter has no effect here!\n"
     ]
    },
    {
     "name": "stderr",
     "output_type": "stream",
     "text": [
      "100%|██████████████████████████████████████████████████████████████████████████████████| 58/58 [00:05<00:00, 10.30it/s]\n"
     ]
    },
    {
     "name": "stdout",
     "output_type": "stream",
     "text": [
      "Chosen model is clipped shPLRNN, the bases Parameter has no effect here!\n"
     ]
    },
    {
     "name": "stderr",
     "output_type": "stream",
     "text": [
      "100%|██████████████████████████████████████████████████████████████████████████████████| 58/58 [00:05<00:00, 10.08it/s]\n"
     ]
    },
    {
     "name": "stdout",
     "output_type": "stream",
     "text": [
      "Chosen model is clipped shPLRNN, the bases Parameter has no effect here!\n"
     ]
    },
    {
     "name": "stderr",
     "output_type": "stream",
     "text": [
      "100%|██████████████████████████████████████████████████████████████████████████████████| 88/88 [00:09<00:00,  9.43it/s]\n"
     ]
    },
    {
     "name": "stdout",
     "output_type": "stream",
     "text": [
      "Chosen model is clipped shPLRNN, the bases Parameter has no effect here!\n"
     ]
    },
    {
     "name": "stderr",
     "output_type": "stream",
     "text": [
      "100%|██████████████████████████████████████████████████████████████████████████████████| 88/88 [00:09<00:00,  9.33it/s]\n"
     ]
    },
    {
     "name": "stdout",
     "output_type": "stream",
     "text": [
      "Chosen model is clipped shPLRNN, the bases Parameter has no effect here!\n"
     ]
    },
    {
     "name": "stderr",
     "output_type": "stream",
     "text": [
      "100%|██████████████████████████████████████████████████████████████████████████████████| 88/88 [00:09<00:00,  9.10it/s]\n"
     ]
    },
    {
     "name": "stdout",
     "output_type": "stream",
     "text": [
      "Chosen model is clipped shPLRNN, the bases Parameter has no effect here!\n"
     ]
    },
    {
     "name": "stderr",
     "output_type": "stream",
     "text": [
      "100%|██████████████████████████████████████████████████████████████████████████████████| 48/48 [00:05<00:00,  8.69it/s]\n"
     ]
    },
    {
     "name": "stdout",
     "output_type": "stream",
     "text": [
      "Chosen model is clipped shPLRNN, the bases Parameter has no effect here!\n"
     ]
    },
    {
     "name": "stderr",
     "output_type": "stream",
     "text": [
      "100%|██████████████████████████████████████████████████████████████████████████████████| 48/48 [00:05<00:00,  8.77it/s]\n"
     ]
    },
    {
     "name": "stdout",
     "output_type": "stream",
     "text": [
      "Chosen model is clipped shPLRNN, the bases Parameter has no effect here!\n"
     ]
    },
    {
     "name": "stderr",
     "output_type": "stream",
     "text": [
      "100%|██████████████████████████████████████████████████████████████████████████████████| 48/48 [00:05<00:00,  8.90it/s]\n"
     ]
    },
    {
     "name": "stdout",
     "output_type": "stream",
     "text": [
      "Chosen model is clipped shPLRNN, the bases Parameter has no effect here!\n"
     ]
    },
    {
     "name": "stderr",
     "output_type": "stream",
     "text": [
      "100%|██████████████████████████████████████████████████████████████████████████████████| 35/35 [00:03<00:00,  9.65it/s]\n"
     ]
    },
    {
     "name": "stdout",
     "output_type": "stream",
     "text": [
      "Chosen model is clipped shPLRNN, the bases Parameter has no effect here!\n"
     ]
    },
    {
     "name": "stderr",
     "output_type": "stream",
     "text": [
      "100%|██████████████████████████████████████████████████████████████████████████████████| 35/35 [00:03<00:00,  9.66it/s]\n"
     ]
    },
    {
     "name": "stdout",
     "output_type": "stream",
     "text": [
      "Chosen model is clipped shPLRNN, the bases Parameter has no effect here!\n"
     ]
    },
    {
     "name": "stderr",
     "output_type": "stream",
     "text": [
      "100%|██████████████████████████████████████████████████████████████████████████████████| 35/35 [00:03<00:00,  9.64it/s]\n"
     ]
    }
   ],
   "source": [
    "num_sessions = len(mod_sessions)\n",
    "last_epoch = 150000\n",
    "Choice_rec = [] ; Choice_gen =[]\n",
    "Reward_rec = [] ; Reward_gen =[]\n",
    "Block_rec = [] ; Block_gen =[]\n",
    "\n",
    "\n",
    "for isess in range(num_sessions):\n",
    "    Neural_path = os.path.join(path_models,mod_sessions[isess],extra_activity)\n",
    "    Model_path = os.path.join(path_models,mod_sessions[isess],extra_models).replace('\\\\','/')\n",
    "    Behavioural_path = os.path.join(path_behaviours,rec_sessions[isess]).replace('\\\\','/')\n",
    "    Hyper_mod(Model_path,Neural_path)\n",
    "    \n",
    "    # Response mean value\n",
    "    event_flag=1\n",
    "    Data_resp,Simul_resp = Generation_Matrixes(Neural_path,Model_path,last_epoch,event_flag)\n",
    "    scipy.io.savemat('Resp_'+mod_sessions[isess]+'.mat',{'Rec':Data_resp,'Gen':Simul_resp})\n",
    "    # Reward mean value\n",
    "    event_flag=2\n",
    "    Data_rew,Simul_rew = Generation_Matrixes(Neural_path,Model_path,last_epoch,event_flag)\n",
    "    scipy.io.savemat('Rew_'+mod_sessions[isess]+'.mat',{'Rec':Data_rew,'Gen':Simul_rew})\n",
    "    # Total trial mean value\n",
    "    event_flag=3\n",
    "    Data_tot,Simul_tot = Generation_Matrixes(Neural_path,Model_path,last_epoch,event_flag)\n",
    "    scipy.io.savemat('Tot_'+mod_sessions[isess]+'.mat',{'Rec':Data_tot,'Gen':Simul_tot})\n",
    "    "
   ]
  },
  {
   "cell_type": "code",
   "execution_count": null,
   "id": "5e1a307f",
   "metadata": {},
   "outputs": [],
   "source": [
    "pwd"
   ]
  },
  {
   "cell_type": "code",
   "execution_count": null,
   "id": "d44f6e7b",
   "metadata": {},
   "outputs": [],
   "source": []
  }
 ],
 "metadata": {
  "kernelspec": {
   "display_name": "Python 3 (ipykernel)",
   "language": "python",
   "name": "python3"
  },
  "language_info": {
   "codemirror_mode": {
    "name": "ipython",
    "version": 3
   },
   "file_extension": ".py",
   "mimetype": "text/x-python",
   "name": "python",
   "nbconvert_exporter": "python",
   "pygments_lexer": "ipython3",
   "version": "3.9.12"
  }
 },
 "nbformat": 4,
 "nbformat_minor": 5
}
